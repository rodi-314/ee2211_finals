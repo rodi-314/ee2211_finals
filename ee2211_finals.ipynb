{
 "cells": [
  {
   "cell_type": "markdown",
   "id": "940eeacd",
   "metadata": {},
   "source": [
    "# EE2211 Finals Code"
   ]
  },
  {
   "cell_type": "markdown",
   "id": "049efebb",
   "metadata": {},
   "source": [
    "For Chapters 4 to 9 of EE2211 Introduction to Machine Learning, a course taught at the National University of Singapore (NUS). \n",
    "\n",
    "4. Systems of Linear Equations\n",
    "5. Least Squares, Linear Regression\n",
    "6. Ridge Regression, Polynomial Regression\n",
    "7. Overfitting, Bias/Variance Trade-off\n",
    "8. Optimisation, Gradient Descent\n",
    "9. Decision Trees, Random Forest\n",
    "\n",
    "Compiled and written by Roderick Kong in 2025, with reference to materials from said course."
   ]
  },
  {
   "cell_type": "code",
   "execution_count": 250,
   "id": "7c69c910-c0ae-4a91-b855-3a965b0dcc07",
   "metadata": {},
   "outputs": [],
   "source": [
    "# Import statements (run this cell first)\n",
    "import numpy as np\n",
    "from numpy.linalg import matrix_rank, det, inv\n",
    "from sklearn.metrics import mean_squared_error\n",
    "from sklearn.preprocessing import PolynomialFeatures, OneHotEncoder\n",
    "from sklearn.tree import DecisionTreeRegressor, DecisionTreeClassifier, plot_tree\n",
    "from sklearn.ensemble import RandomForestRegressor, RandomForestClassifier\n",
    "from scipy.stats import pearsonr\n",
    "import matplotlib.pyplot as plt"
   ]
  },
  {
   "cell_type": "markdown",
   "id": "2c235ea4-f7d4-4f94-9bc6-dd1d25f150a9",
   "metadata": {},
   "source": [
    "# Matrix Basics"
   ]
  },
  {
   "cell_type": "markdown",
   "id": "2746fc8d-0504-45da-9440-504b3703934b",
   "metadata": {},
   "source": [
    "### Rank of Matrix"
   ]
  },
  {
   "cell_type": "code",
   "execution_count": 251,
   "id": "9fc2f1c4-a33a-4ad2-a613-b0d58ad051d8",
   "metadata": {},
   "outputs": [
    {
     "name": "stdout",
     "output_type": "stream",
     "text": [
      "Rank of X =\n",
      "2\n"
     ]
    }
   ],
   "source": [
    "X = np.array([[1, 4, 3], [0, 4, 2], [1, 8, 5]])\n",
    "print(\"Rank of X =\")\n",
    "print(matrix_rank(X))"
   ]
  },
  {
   "cell_type": "markdown",
   "id": "2acf54df-3157-4609-a022-36f5a26cc96f",
   "metadata": {},
   "source": [
    "### Determinant of Matrix"
   ]
  },
  {
   "cell_type": "code",
   "execution_count": 252,
   "id": "7b8aa695-29f1-48a8-ae78-35722d1d63a0",
   "metadata": {},
   "outputs": [
    {
     "name": "stdout",
     "output_type": "stream",
     "text": [
      "det(X) =\n",
      "0.0\n"
     ]
    }
   ],
   "source": [
    "X = np.array([[1, 4, 3], [0, 4, 2], [1, 8, 5]])\n",
    "print(\"det(X) =\")\n",
    "print(det(X))"
   ]
  },
  {
   "cell_type": "markdown",
   "id": "47ad66f5-d754-417a-a274-3e25a084db02",
   "metadata": {},
   "source": [
    "### Matrix Inverse"
   ]
  },
  {
   "cell_type": "code",
   "execution_count": 253,
   "id": "af5c0819-2489-4153-8bf7-0561ee8c282a",
   "metadata": {},
   "outputs": [
    {
     "name": "stdout",
     "output_type": "stream",
     "text": [
      "X⁻¹ =\n",
      "[[ 1.42857143e+00 -1.50000000e+00 -1.42857143e-01]\n",
      " [ 2.14285714e-01 -1.78428700e-17 -7.14285714e-02]\n",
      " [-4.28571429e-01  5.00000000e-01  1.42857143e-01]]\n"
     ]
    }
   ],
   "source": [
    "X = np.array([[1, 4, 3], [0, 4, 2], [3, -2, 9]])\n",
    "print(\"X⁻¹ =\")\n",
    "print(inv(X))"
   ]
  },
  {
   "cell_type": "markdown",
   "id": "20764c89-92ec-4809-b826-d9f5a0786c14",
   "metadata": {},
   "source": [
    "### Check if Left Invertible"
   ]
  },
  {
   "cell_type": "code",
   "execution_count": 254,
   "id": "e6f820a4-0736-47a0-b88a-b451d170fbc5",
   "metadata": {},
   "outputs": [
    {
     "name": "stdout",
     "output_type": "stream",
     "text": [
      "det(XᵀX) =\n",
      "11006.000000000036\n",
      "X is left invertible\n",
      "(XᵀX)⁻¹Xᵀ =\n",
      "[[ 0.32073415 -0.14464837 -0.19080502  0.10903144]\n",
      " [ 0.33000182  0.01944394 -0.23314556 -0.00963111]\n",
      " [-0.4528439   0.07023442  0.37279666  0.07268762]]\n"
     ]
    }
   ],
   "source": [
    "X = np.array([[1, 4, 2], [-3, 10, 5], [1, 2, 3], [4, 5, 6]])\n",
    "XTX = X.T @ X\n",
    "print(\"det(XᵀX) =\")\n",
    "print(det(XTX))\n",
    "\n",
    "if det(XTX) != 0:\n",
    "    print(\"X is left invertible\")\n",
    "    print(\"(XᵀX)⁻¹Xᵀ =\")\n",
    "    print(inv(X.T @ X) @ X.T)\n",
    "else:\n",
    "    print(\"X is not left invertible\")"
   ]
  },
  {
   "cell_type": "markdown",
   "id": "c8cdff39-b687-47c4-a0d3-55b195e9faf4",
   "metadata": {},
   "source": [
    "### Check if Right Invertible"
   ]
  },
  {
   "cell_type": "code",
   "execution_count": 255,
   "id": "d2c994c8-8818-4ae2-a0ef-1dac1a22109d",
   "metadata": {},
   "outputs": [
    {
     "name": "stdout",
     "output_type": "stream",
     "text": [
      "det(XXᵀ) =\n",
      "604.9999999999997\n",
      "X is right invertible\n",
      "Xᵀ(XXᵀ)⁻¹ =\n",
      "[[ 0.45454545 -0.18181818]\n",
      " [ 0.10909091  0.03636364]\n",
      " [ 0.05454545  0.01818182]]\n"
     ]
    }
   ],
   "source": [
    "X = np.array([[1, 4, 2], [-3, 10, 5]])\n",
    "XXT = X @ X.T\n",
    "print(\"det(XXᵀ) =\")\n",
    "print(det(XXT))\n",
    "\n",
    "if det(XXT) != 0:\n",
    "    print(\"X is right invertible\")\n",
    "    print(\"Xᵀ(XXᵀ)⁻¹ =\")\n",
    "    print(X.T @ inv(X @ X.T))\n",
    "else:\n",
    "    print(\"X is not right invertible\")"
   ]
  },
  {
   "cell_type": "markdown",
   "id": "4e7bd6e0-6975-4294-b38c-09076e1c0478",
   "metadata": {
    "jp-MarkdownHeadingCollapsed": true
   },
   "source": [
    "# System of Linear Equations"
   ]
  },
  {
   "cell_type": "markdown",
   "id": "ff612636-b246-4d3e-af0e-ce17fb399db1",
   "metadata": {},
   "source": [
    "### System of Linear Equations (automated)"
   ]
  },
  {
   "cell_type": "code",
   "execution_count": 256,
   "id": "516515c1-48aa-4cbe-872a-2ce9c69737ea",
   "metadata": {},
   "outputs": [
    {
     "name": "stdout",
     "output_type": "stream",
     "text": [
      "Even-determined, m = d, X⁻¹\n",
      "w =\n",
      "[0.44444444 8.91666667 1.44444444]\n"
     ]
    }
   ],
   "source": [
    "X = np.array([[1, 4, 2], [0, 4, 3], [3, 4, 9]])\n",
    "y = np.array([39, 40, 50])\n",
    "\n",
    "if X.shape[1] > X.shape[0]:\n",
    "    print(\"Under-determined, m < d, right inverse Xᵀ(XXᵀ)⁻¹\")\n",
    "    w = X.T @ inv(X @ X.T) @ y\n",
    "elif X.shape[1] < X.shape[0]:\n",
    "    print(\"Over-determined, m > d, left inverse (XᵀX)⁻¹Xᵀ\")\n",
    "    w = (inv(X.T @ X) @ X.T) @ y\n",
    "else:\n",
    "    print(\"Even-determined, m = d, X⁻¹\")\n",
    "    w = inv(X) @ y\n",
    "    \n",
    "print(\"w =\")\n",
    "print(w)"
   ]
  },
  {
   "cell_type": "markdown",
   "id": "47ee3e5f-90d6-4360-8d44-b7f6e9c6237e",
   "metadata": {},
   "source": [
    "### System of Linear Equations (even-determined, m = d)"
   ]
  },
  {
   "cell_type": "code",
   "execution_count": 257,
   "id": "f0453fee-4828-409e-9da4-2002fff4eea1",
   "metadata": {},
   "outputs": [
    {
     "name": "stdout",
     "output_type": "stream",
     "text": [
      "w =\n",
      "[0.44444444 8.91666667 1.44444444]\n"
     ]
    }
   ],
   "source": [
    "X = np.array([[1, 4, 2], [0, 4, 3], [3, 4, 9]])\n",
    "y = np.array([39, 40, 50])\n",
    "w = inv(X) @ y\n",
    "print(\"w =\")\n",
    "print(w)"
   ]
  },
  {
   "cell_type": "markdown",
   "id": "a23913ea-eb8b-4e0b-8105-ad1e965b86be",
   "metadata": {},
   "source": [
    "### System of Linear Equations (over-determined, m > d)"
   ]
  },
  {
   "cell_type": "code",
   "execution_count": 258,
   "id": "bef2e907-6696-4717-b045-cad02b74ef63",
   "metadata": {},
   "outputs": [
    {
     "name": "stdout",
     "output_type": "stream",
     "text": [
      "ŵ =\n",
      "[1.  0.5]\n"
     ]
    }
   ],
   "source": [
    "X = np.array([[1, 1], [1, -1], [1, 0]])\n",
    "y = np.array([1, 0, 2])\n",
    "w = inv(X.T @ X) @ X.T @ y\n",
    "print(\"ŵ =\")\n",
    "print(w)"
   ]
  },
  {
   "cell_type": "markdown",
   "id": "58de7f29-903d-4232-a7a4-682cdfb74d7c",
   "metadata": {},
   "source": [
    "### System of Linear Equations (under-determined, m < d)"
   ]
  },
  {
   "cell_type": "code",
   "execution_count": 259,
   "id": "ec965cb1-4610-4dc9-b0d2-8fa1326f7b9c",
   "metadata": {},
   "outputs": [
    {
     "name": "stdout",
     "output_type": "stream",
     "text": [
      "ŵ =\n",
      "[0.15 0.25 0.45]\n"
     ]
    }
   ],
   "source": [
    "X = np.array([[1, 2, 3], [1, -2, 3]])\n",
    "y = np.array([2, 1])\n",
    "w = X.T @ inv(X @ X.T) @ y\n",
    "print(\"ŵ =\")\n",
    "print(w)"
   ]
  },
  {
   "cell_type": "markdown",
   "id": "1e1b8d4c-9cbf-4eab-be9c-5619afb940a2",
   "metadata": {},
   "source": [
    "# Linear Regression"
   ]
  },
  {
   "cell_type": "markdown",
   "id": "d136de71-3f33-4f32-ae0e-f7ef917b3169",
   "metadata": {},
   "source": [
    "## Linear Regression"
   ]
  },
  {
   "cell_type": "markdown",
   "id": "427efd94-367b-4df5-a5a1-2f10e7c52c3a",
   "metadata": {},
   "source": [
    "### Linear Regression (automated)"
   ]
  },
  {
   "cell_type": "code",
   "execution_count": 260,
   "id": "2ee46438-2f07-4ced-a60f-e4ae7dd6e458",
   "metadata": {},
   "outputs": [
    {
     "name": "stdout",
     "output_type": "stream",
     "text": [
      "Under-determined, m < d, right inverse Xᵀ(XXᵀ)⁻¹\n",
      "Ŵ =\n",
      "[[-0.14285714]\n",
      " [ 0.52380952]\n",
      " [-0.47619048]\n",
      " [ 0.61904762]]\n",
      "\n",
      "Y_test =\n",
      "[[ 3.33333333]\n",
      " [-2.61904762]]\n",
      "\n",
      "MSE =\n",
      "5.423418723394456e-31\n"
     ]
    }
   ],
   "source": [
    "# Remember to add the first column of '1's for bias for X!\n",
    "X = np.array([[1, 1, 0, 1], [1, 2, -1, 1], [1, 1, 1, 5]])\n",
    "Y = [[1], [2], [3]]\n",
    "\n",
    "if X.shape[1] > X.shape[0]:\n",
    "    print(\"Under-determined, m < d, right inverse Xᵀ(XXᵀ)⁻¹\")\n",
    "    W = X.T @ inv(X @ X.T) @ Y\n",
    "else:\n",
    "    print(\"Over-determined, m > d, left inverse (XᵀX)⁻¹Xᵀ\")\n",
    "    W = (inv(X.T @ X) @ X.T) @ Y\n",
    "print(\"Ŵ =\")\n",
    "print(W)\n",
    "print()\n",
    "\n",
    "# Predict Y based on new X\n",
    "X_test = np.array([[1, -1, 2, 8], [1, 1, 5, -1]])\n",
    "Y_test = X_test @ W\n",
    "print(\"Y_test =\")\n",
    "print(Y_test)\n",
    "print()\n",
    "\n",
    "# Calculate mean-squared error\n",
    "Y_predicted = X @ W\n",
    "print(\"MSE =\")\n",
    "print(mean_squared_error(Y_predicted, Y))"
   ]
  },
  {
   "cell_type": "markdown",
   "id": "30c75417-6324-4fc8-82c8-688d52de1664",
   "metadata": {
    "jp-MarkdownHeadingCollapsed": true
   },
   "source": [
    "### Linear Regression (over-determined, m > d, left inverse)"
   ]
  },
  {
   "cell_type": "code",
   "execution_count": 261,
   "id": "9bc66ae4-9df4-4919-89a8-f384d1f85a5d",
   "metadata": {},
   "outputs": [
    {
     "name": "stdout",
     "output_type": "stream",
     "text": [
      "Ŵ =\n",
      "[0.15 0.25 0.45]\n",
      "\n",
      "Y_test =\n",
      "[[ 7.75       -7.25      ]\n",
      " [-1.67857143  3.46428571]]\n",
      "\n",
      "MSE =\n",
      "0.30357142857142855\n"
     ]
    }
   ],
   "source": [
    "# Remember to add the first column of '1's for bias for X!\n",
    "X = np.array([[1, 1, 1], [1, -1, 1], [1, 1, 3], [1, 1, 0]])\n",
    "Y = np.array([[1, 0], [0, 1], [2, -1], [-1, 3]])\n",
    "W = inv(X.T @ X) @ X.T @ Y  # Use left inverse (XᵀX)⁻¹Xᵀ\n",
    "print(\"Ŵ =\")\n",
    "print(w)\n",
    "print()\n",
    "\n",
    "# Predict Y based on new X\n",
    "X_test = np.array([[1, 6, 8], [1, 0, -1]])\n",
    "Y_test = X_test @ W\n",
    "print(\"Y_test =\")\n",
    "print(Y_test)\n",
    "print()\n",
    "\n",
    "# Calculate mean-squared error\n",
    "Y_predicted = X @ W\n",
    "print(\"MSE =\")\n",
    "print(mean_squared_error(Y_predicted, Y))"
   ]
  },
  {
   "cell_type": "markdown",
   "id": "422c9504-1ed1-4d09-b2ba-080f7f6d8792",
   "metadata": {
    "jp-MarkdownHeadingCollapsed": true
   },
   "source": [
    "### Linear Regression (under-determined, m < d, right inverse)"
   ]
  },
  {
   "cell_type": "code",
   "execution_count": 262,
   "id": "c2322ec4-750c-45f8-8302-37f427c8fdd1",
   "metadata": {},
   "outputs": [
    {
     "name": "stdout",
     "output_type": "stream",
     "text": [
      "Ŵ =\n",
      "[[-0.14285714]\n",
      " [ 0.52380952]\n",
      " [-0.47619048]\n",
      " [ 0.61904762]]\n",
      "\n",
      "Y_test =\n",
      "[[ 3.33333333]\n",
      " [-2.61904762]]\n",
      "\n",
      "MSE =\n",
      "5.423418723394456e-31\n"
     ]
    }
   ],
   "source": [
    "# Remember to add the first column of '1's for bias for X!\n",
    "X = np.array([[1, 1, 0, 1], [1, 2, -1, 1], [1, 1, 1, 5]])\n",
    "Y = [[1], [2], [3]]\n",
    "W = X.T @ inv(X @ X.T) @ Y  # Use right inverse Xᵀ(XXᵀ)⁻¹\n",
    "print(\"Ŵ =\")\n",
    "print(W)\n",
    "print()\n",
    "\n",
    "# Predict Y based on new X\n",
    "X_test = np.array([[1, -1, 2, 8], [1, 1, 5, -1]])\n",
    "Y_test = X_test @ W\n",
    "print(\"Y_test =\")\n",
    "print(Y_test)\n",
    "print()\n",
    "\n",
    "# Calculate mean-squared error\n",
    "Y_predicted = X @ W\n",
    "print(\"MSE =\")\n",
    "print(mean_squared_error(Y_predicted, Y))"
   ]
  },
  {
   "cell_type": "markdown",
   "id": "29ebed91-6f87-40d4-8786-bfba7149b061",
   "metadata": {},
   "source": [
    "## Linear Regression for Classification"
   ]
  },
  {
   "cell_type": "markdown",
   "id": "89d59126-7ded-469f-8d4a-3f94ce772dc5",
   "metadata": {},
   "source": [
    "### Binary Classification (automated, linear regression)"
   ]
  },
  {
   "cell_type": "code",
   "execution_count": 263,
   "id": "2901716e-f6da-458e-a2b9-940fbde472ad",
   "metadata": {},
   "outputs": [
    {
     "name": "stdout",
     "output_type": "stream",
     "text": [
      "Over-determined, m > d, left inverse (XᵀX)⁻¹Xᵀ\n",
      "ŵ =\n",
      "[[0.140625]\n",
      " [0.140625]]\n",
      "\n",
      "y_test_class =\n",
      "[[-1.]]\n"
     ]
    }
   ],
   "source": [
    "# Remember to add the first column of '1's for bias for X!\n",
    "X = np.array([[1, -9], [1, -7], [1, -5], [1, 1], [1, 5], [1, 9]])\n",
    "y = np.array([[-1], [-1], [-1], [1], [1], [1]])\n",
    "\n",
    "# Linear regression\n",
    "if X.shape[1] > X.shape[0]:\n",
    "    print(\"Under-determined, m < d, right inverse Xᵀ(XXᵀ)⁻¹\")\n",
    "    w = X.T @ inv(X @ X.T) @ y\n",
    "else:\n",
    "    print(\"Over-determined, m > d, left inverse (XᵀX)⁻¹Xᵀ\")\n",
    "    w = (inv(X.T @ X) @ X.T) @ y\n",
    "print(\"ŵ =\")\n",
    "print(w)\n",
    "print()\n",
    "\n",
    "# Predict Y based on new X\n",
    "X_test = np.array([[1, -2]])\n",
    "y_test = X_test @ w\n",
    "y_test_class = np.sign(y_test)\n",
    "print(\"y_test_class =\")\n",
    "print(y_test_class)"
   ]
  },
  {
   "cell_type": "markdown",
   "id": "9b7a1a0d-021e-4295-8e1d-976d9588055b",
   "metadata": {},
   "source": [
    "### Multi-class Classification (automated, one-hot encoding, linear regression)"
   ]
  },
  {
   "cell_type": "code",
   "execution_count": 264,
   "id": "126d881b-8305-4dec-88bd-74dc80236e7a",
   "metadata": {},
   "outputs": [
    {
     "name": "stdout",
     "output_type": "stream",
     "text": [
      "Over-determined, m > d, left inverse (XᵀX)⁻¹Xᵀ\n",
      "Ŵ =\n",
      "[[ 0.47798742  0.33333333  0.18867925]\n",
      " [-0.64989518  0.55555556  0.09433962]]\n",
      "\n",
      "Y_test_class =\n",
      "[[1, 0, 0], [0, 1, 0]]\n"
     ]
    }
   ],
   "source": [
    "# Remember to add the first column of '1's for bias for X!\n",
    "X = np.array([[1, -1], [1, 0], [1, 0.5], [1, 0.3], [1, 0.8]])\n",
    "Y = np.array([[1, 0, 0], [1, 0, 0], [0, 1, 0], [0, 0, 1], [0, 1, 0]])\n",
    "\n",
    "# Uncomment to use OneHotEncoder\n",
    "# Y_class = np.array([[1], [1], [2], [3], [2]])\n",
    "# onehot_encoder = OneHotEncoder(sparse_output=False)\n",
    "# Y = onehot_encoder.fit_transform(Y_class)\n",
    "\n",
    "# Linear regression\n",
    "if X.shape[1] > X.shape[0]:\n",
    "    print(\"Under-determined, m < d, right inverse Xᵀ(XXᵀ)⁻¹\")\n",
    "    W = X.T @ inv(X @ X.T) @ Y\n",
    "else:\n",
    "    print(\"Over-determined, m > d, left inverse (XᵀX)⁻¹Xᵀ\")\n",
    "    W = (inv(X.T @ X) @ X.T) @ Y\n",
    "print(\"Ŵ =\")\n",
    "print(W)\n",
    "print()\n",
    "\n",
    "# Predict Y based on new X\n",
    "X_test = np.array([[1, -0.1], [1, 0.4]])\n",
    "Y_test = X_test @ W\n",
    "Y_test_class = [[1 if y == max(x) else 0 for y in x] for x in Y_test]\n",
    "print(\"Y_test_class =\")\n",
    "print(Y_test_class)"
   ]
  },
  {
   "cell_type": "markdown",
   "id": "821cb181-3fb6-476a-b49c-ed886d7931d5",
   "metadata": {},
   "source": [
    "# Polynomial Regression"
   ]
  },
  {
   "cell_type": "markdown",
   "id": "82b1d673-d43c-487d-9ce9-6e89ef73f37d",
   "metadata": {},
   "source": [
    "## Polynomial Regression"
   ]
  },
  {
   "cell_type": "markdown",
   "id": "3ac59a72",
   "metadata": {},
   "source": [
    "### Count Number of Parameters Needed for Polynomial Regression"
   ]
  },
  {
   "cell_type": "code",
   "execution_count": 265,
   "id": "1ee3822f",
   "metadata": {},
   "outputs": [
    {
     "name": "stdout",
     "output_type": "stream",
     "text": [
      "P =\n",
      "[[1. 1. 1. 1. 1. 1. 1. 1. 1. 1.]]\n",
      "Number of parameter(s) needed for 2 feature(s) and order 3 = 10\n"
     ]
    }
   ],
   "source": [
    "number_of_features = 2\n",
    "order = 3\n",
    "\n",
    "X = np.array([[1] * number_of_features])\n",
    "# Generate polynomial features\n",
    "poly = PolynomialFeatures(order)\n",
    "P = poly.fit_transform(X)\n",
    "print(\"P =\")\n",
    "print(P)\n",
    "print(f'Number of parameter(s) needed for {number_of_features} feature(s) and order {order} = {P.shape[1]}')"
   ]
  },
  {
   "cell_type": "markdown",
   "id": "bce1849a-a457-4974-b2e1-4c1e0723a4f6",
   "metadata": {},
   "source": [
    "### Polynomial Regression (automated)"
   ]
  },
  {
   "cell_type": "code",
   "execution_count": 266,
   "id": "45a800fa-2697-4b93-963a-133b0cbfd238",
   "metadata": {},
   "outputs": [
    {
     "name": "stdout",
     "output_type": "stream",
     "text": [
      "P =\n",
      "[[    1.   -10.   100. -1000.]\n",
      " [    1.    -8.    64.  -512.]\n",
      " [    1.    -3.     9.   -27.]\n",
      " [    1.    -1.     1.    -1.]\n",
      " [    1.     2.     4.     8.]\n",
      " [    1.     8.    64.   512.]]\n",
      "\n",
      "Use primal solution, m > d, left inverse (PᵀP)⁻¹Pᵀ\n",
      "Ŵ =\n",
      "[[ 2.68935636]\n",
      " [-0.37722517]\n",
      " [ 0.01343815]\n",
      " [ 0.00285772]]\n",
      "\n",
      "Y_test =\n",
      "[[2.46609771]]\n"
     ]
    }
   ],
   "source": [
    "# NO NEED to add the first column of '1's for bias for X, already done in PolynomialFeatures()!\n",
    "X = np.array([[-10], [-8], [-3], [-1], [2], [8]])\n",
    "Y = np.array([[5], [5], [4], [3], [2], [2]])\n",
    "\n",
    "# Generate polynomial features\n",
    "order = 3\n",
    "poly = PolynomialFeatures(order)\n",
    "P = poly.fit_transform(X)\n",
    "print(\"P =\")\n",
    "print(P)\n",
    "print()\n",
    "\n",
    "# Polynomial regression\n",
    "if P.shape[1] > P.shape[0]:\n",
    "    print(\"Use dual solution, m < d, right inverse Pᵀ(PPᵀ)⁻¹\")\n",
    "    W = P.T @ inv(P @ P.T) @ Y\n",
    "else:\n",
    "    print(\"Use primal solution, m > d, left inverse (PᵀP)⁻¹Pᵀ\")\n",
    "    W = (inv(P.T @ P) @ P.T) @ Y\n",
    "print(\"Ŵ =\")\n",
    "print(W)\n",
    "print()\n",
    "\n",
    "# Predict Y based on new X\n",
    "X_test = np.array([[9]])\n",
    "P_test = poly.fit_transform(X_test)\n",
    "Y_test = P_test @ W\n",
    "print(\"Y_test =\")\n",
    "print(Y_test)"
   ]
  },
  {
   "cell_type": "markdown",
   "id": "42d9b577-2576-433e-a4a7-5f0300cf6435",
   "metadata": {},
   "source": [
    "## Polynomial Regression for Classification"
   ]
  },
  {
   "cell_type": "markdown",
   "id": "100780ce-a4ec-4c51-97bc-132d855b900c",
   "metadata": {},
   "source": [
    "### Binary Classification (automated, polynomial regression)"
   ]
  },
  {
   "cell_type": "code",
   "execution_count": 267,
   "id": "93923c5a-d0e6-408f-9835-138a9ea58182",
   "metadata": {},
   "outputs": [
    {
     "name": "stdout",
     "output_type": "stream",
     "text": [
      "P =\n",
      "[[1. 0. 0. 0. 0. 0.]\n",
      " [1. 1. 1. 1. 1. 1.]\n",
      " [1. 1. 0. 1. 0. 0.]\n",
      " [1. 0. 1. 0. 0. 1.]]\n",
      "\n",
      "Use dual solution, m < d, right inverse Pᵀ(PPᵀ)⁻¹\n",
      "ŵ =\n",
      "[[-1.]\n",
      " [ 1.]\n",
      " [ 1.]\n",
      " [ 1.]\n",
      " [-4.]\n",
      " [ 1.]]\n",
      "\n",
      "y_test_class =\n",
      "[[-1.]\n",
      " [-1.]\n",
      " [ 1.]\n",
      " [ 1.]]\n"
     ]
    }
   ],
   "source": [
    "# NO NEED to add the first column of '1's for bias for X, already done in PolynomialFeatures()!\n",
    "X = np.array([[0, 0], [1, 1], [1, 0], [0, 1]])\n",
    "y = np.array([[-1], [-1], [1], [1]])\n",
    "\n",
    "# Generate polynomial features\n",
    "order = 2\n",
    "poly = PolynomialFeatures(order)\n",
    "P = poly.fit_transform(X)\n",
    "print(\"P =\")\n",
    "print(P)\n",
    "print()\n",
    "\n",
    "# Polynomial regression\n",
    "if P.shape[1] > P.shape[0]:\n",
    "    print(\"Use dual solution, m < d, right inverse Pᵀ(PPᵀ)⁻¹\")\n",
    "    w = P.T @ inv(P @ P.T) @ y\n",
    "else:\n",
    "    print(\"Use primal solution, m > d, left inverse (PᵀP)⁻¹Pᵀ\")\n",
    "    w = (inv(P.T @ P) @ P.T) @ y\n",
    "print(\"ŵ =\")\n",
    "print(w)\n",
    "print()\n",
    "\n",
    "# Predict Y based on new X\n",
    "X_test = np.array([[0.1, 0.1], [0.9, 0.9], [0.1, 0.9], [0.9, 0.1]])\n",
    "P_test = poly.fit_transform(X_test)\n",
    "Y_test = P_test @ w\n",
    "print(\"y_test_class =\")\n",
    "print(np.sign(Y_test))"
   ]
  },
  {
   "cell_type": "markdown",
   "id": "28934789-45d1-4ac0-8a26-d5ac9f2d461b",
   "metadata": {},
   "source": [
    "### Multi-class Classification (automated, one-hot encoding, polynomial regression)"
   ]
  },
  {
   "cell_type": "code",
   "execution_count": 268,
   "id": "bd48042b-1210-43e9-9bf5-83758d0d67ee",
   "metadata": {},
   "outputs": [
    {
     "name": "stdout",
     "output_type": "stream",
     "text": [
      "P =\n",
      "[[ 1.      -1.       1.      -1.       1.      -1.     ]\n",
      " [ 1.       0.       0.       0.       0.       0.     ]\n",
      " [ 1.       0.5      0.25     0.125    0.0625   0.03125]\n",
      " [ 1.       0.3      0.09     0.027    0.0081   0.00243]\n",
      " [ 1.       0.8      0.64     0.512    0.4096   0.32768]]\n",
      "\n",
      "Use dual solution, m < d, right inverse Pᵀ(PPᵀ)⁻¹\n",
      "Ŵ =\n",
      "[[ 1.00000000e+00  1.06581410e-14 -5.68434189e-14]\n",
      " [-5.30313768e+00 -3.70234958e+00  9.00548727e+00]\n",
      " [ 5.21976232e+00  1.08728407e+01 -1.60926030e+01]\n",
      " [ 6.66624941e+00  9.46978846e+00 -1.61360379e+01]\n",
      " [-6.47651463e+00 -1.29098961e+01  1.93864107e+01]\n",
      " [-2.61986403e+00 -7.80449422e+00  1.04243583e+01]]\n",
      "\n",
      "Y_test_class =\n",
      "[[1, 0, 0], [0, 0, 1]]\n"
     ]
    }
   ],
   "source": [
    "# NO NEED to add the first column of '1's for bias for X, already done in PolynomialFeatures()!\n",
    "X = np.array([[-1], [0], [0.5], [0.3], [0.8]])\n",
    "Y = np.array([[1, 0, 0], [1, 0, 0], [0, 1, 0], [0, 0, 1], [0, 1, 0]])\n",
    "\n",
    "# Uncomment to use OneHotEncoder\n",
    "# Y_class = np.array([[1], [1], [2], [3], [2]])\n",
    "# onehot_encoder = OneHotEncoder(sparse_output=False)\n",
    "# Y = onehot_encoder.fit_transform(Y_class)\n",
    "\n",
    "# Generate polynomial features\n",
    "order = 5\n",
    "poly = PolynomialFeatures(order)\n",
    "P = poly.fit_transform(X)\n",
    "print(\"P =\")\n",
    "print(P)\n",
    "print()\n",
    "\n",
    "# Polynomial regression\n",
    "if P.shape[1] > P.shape[0]:\n",
    "    print(\"Use dual solution, m < d, right inverse Pᵀ(PPᵀ)⁻¹\")\n",
    "    W = P.T @ inv(P @ P.T) @ Y\n",
    "else:\n",
    "    print(\"Use primal solution, m > d, left inverse (PᵀP)⁻¹Pᵀ\")\n",
    "    W = (inv(P.T @ P) @ P.T) @ Y\n",
    "print(\"Ŵ =\")\n",
    "print(W)\n",
    "print()\n",
    "\n",
    "# Predict Y based on new X\n",
    "X_test = np.array([[-0.1], [0.4]])\n",
    "P_test = poly.fit_transform(X_test)\n",
    "Y_test = P_test @ W\n",
    "Y_test_class = [[1 if y == max(x) else 0 for y in x] for x in Y_test]\n",
    "print(\"Y_test_class =\")\n",
    "print(Y_test_class)"
   ]
  },
  {
   "cell_type": "markdown",
   "id": "8ea3a334-c226-4951-b029-596f7451e945",
   "metadata": {},
   "source": [
    "# Ridge Regression"
   ]
  },
  {
   "cell_type": "markdown",
   "id": "fa25206f-87ee-4135-9580-90b3f0e9154d",
   "metadata": {},
   "source": [
    "## Ridge Regression"
   ]
  },
  {
   "cell_type": "markdown",
   "id": "95b145fb-fa0e-41b1-93c1-bbf8b303780a",
   "metadata": {},
   "source": [
    "### Ridge Regression (automated, polynomial regression with L2 regularisation)"
   ]
  },
  {
   "cell_type": "code",
   "execution_count": 269,
   "id": "48522925-8ae6-4b7c-adaf-529c56578c79",
   "metadata": {},
   "outputs": [
    {
     "name": "stdout",
     "output_type": "stream",
     "text": [
      "P =\n",
      "[[ 1.  1.  0.  1.  1.  0.  1.  0.  0.  1.  1.  0.  1.  0.  0.  1.  0.  0.\n",
      "   0.  1.]\n",
      " [ 1.  1. -1.  1.  1. -1.  1.  1. -1.  1.  1. -1.  1.  1. -1.  1. -1.  1.\n",
      "  -1.  1.]]\n",
      "\n",
      "Use dual solution, m < d, right inverse Pᵀ(PPᵀ + λI)⁻¹\n",
      "Ŵ =\n",
      "[[ 9.99970001e-07]\n",
      " [ 9.99970001e-07]\n",
      " [-9.99980000e-02]\n",
      " [ 9.99970001e-07]\n",
      " [ 9.99970001e-07]\n",
      " [-9.99980000e-02]\n",
      " [ 9.99970001e-07]\n",
      " [ 9.99980000e-02]\n",
      " [-9.99980000e-02]\n",
      " [ 9.99970001e-07]\n",
      " [ 9.99970001e-07]\n",
      " [-9.99980000e-02]\n",
      " [ 9.99970001e-07]\n",
      " [ 9.99980000e-02]\n",
      " [-9.99980000e-02]\n",
      " [ 9.99970001e-07]\n",
      " [-9.99980000e-02]\n",
      " [ 9.99980000e-02]\n",
      " [-9.99980000e-02]\n",
      " [ 9.99970001e-07]]\n",
      "\n",
      "Y_test =\n",
      "[[ 3.99988e-06]\n",
      " [-1.99994e-01]]\n"
     ]
    }
   ],
   "source": [
    "# NO NEED to add the first column of '1's for bias for X, already done in PolynomialFeatures()!\n",
    "X = np.array([[1, 0, 1], [1, -1, 1]])\n",
    "Y = np.array([[0], [1]])\n",
    "\n",
    "# Generate polynomial features\n",
    "order = 3\n",
    "poly = PolynomialFeatures(order)\n",
    "P = poly.fit_transform(X)\n",
    "print(\"P =\")\n",
    "print(P)\n",
    "print()\n",
    "\n",
    "# Ridge regression\n",
    "reg = 0.0001  # Lambda\n",
    "if P.shape[1] > P.shape[0]:\n",
    "    print(\"Use dual solution, m < d, right inverse Pᵀ(PPᵀ + λI)⁻¹\")\n",
    "    W = P.T @ inv(P @ P.T + reg * np.eye(P.shape[0])) @ Y\n",
    "else:\n",
    "    print(\"Use primal solution, m > d, left inverse (PᵀP + λI)⁻¹Pᵀ\")\n",
    "    W = (inv(P.T @ P + reg * np.eye(P.shape[1])) @ P.T) @ Y\n",
    "print(\"Ŵ =\")\n",
    "print(W)\n",
    "print()\n",
    "\n",
    "# Predict Y based on new X\n",
    "X_test = np.array([[1, 0, 0], [-1, 1, 1]])\n",
    "P_test = poly.fit_transform(X_test)\n",
    "Y_test = P_test @ W\n",
    "print(\"Y_test =\")\n",
    "print(Y_test)"
   ]
  },
  {
   "cell_type": "markdown",
   "id": "bdfc34ed-d8f3-4cb3-a1ff-2ae7adc3d97a",
   "metadata": {},
   "source": [
    "## Ridge Regression for Classification"
   ]
  },
  {
   "cell_type": "markdown",
   "id": "c38ba5e2-10c1-406a-b72f-c116446b4cfb",
   "metadata": {},
   "source": [
    "### Binary Classification (automated, polynomial regression with L2 regularisation)"
   ]
  },
  {
   "cell_type": "code",
   "execution_count": 270,
   "id": "eafef996-5d3c-4e76-af9d-7662bdb0fdab",
   "metadata": {},
   "outputs": [
    {
     "name": "stdout",
     "output_type": "stream",
     "text": [
      "P =\n",
      "[[1. 0. 0. 0. 0. 0.]\n",
      " [1. 1. 1. 1. 1. 1.]\n",
      " [1. 1. 0. 1. 0. 0.]\n",
      " [1. 0. 1. 0. 0. 1.]]\n",
      "\n",
      "Use dual solution, m < d, right inverse Pᵀ(PPᵀ + λI)⁻¹\n",
      "Ŵ =\n",
      "[[-0.9993004 ]\n",
      " [ 0.99940033]\n",
      " [ 0.99940033]\n",
      " [ 0.99940033]\n",
      " [-3.99790115]\n",
      " [ 0.99940033]]\n",
      "\n",
      "y_test_class =\n",
      "[[-1.]\n",
      " [-1.]\n",
      " [ 1.]\n",
      " [ 1.]]\n"
     ]
    }
   ],
   "source": [
    "# NO NEED to add the first column of '1's for bias for X, already done in PolynomialFeatures()!\n",
    "X = np.array([ [0, 0], [1, 1], [1, 0], [0, 1]])\n",
    "y = np.array([[-1], [-1], [1], [1]])\n",
    "\n",
    "# Generate polynomial features\n",
    "order = 2\n",
    "poly = PolynomialFeatures(order)\n",
    "P = poly.fit_transform(X)\n",
    "print(\"P =\")\n",
    "print(P)\n",
    "print()\n",
    "\n",
    "# Ridge regression\n",
    "reg = 0.0001  # Lambda\n",
    "if P.shape[1] > P.shape[0]:\n",
    "    print(\"Use dual solution, m < d, right inverse Pᵀ(PPᵀ + λI)⁻¹\")\n",
    "    W = P.T @ inv(P @ P.T + reg * np.eye(P.shape[0])) @ y\n",
    "else:\n",
    "    print(\"Use primal solution, m > d, left inverse (PᵀP + λI)⁻¹Pᵀ\")\n",
    "    W = (inv(P.T @ P + reg * np.eye(P.shape[1])) @ P.T) @ y\n",
    "print(\"Ŵ =\")\n",
    "print(W)\n",
    "print()\n",
    "\n",
    "# Predict Y based on new X\n",
    "X_test = np.array([[0.1, 0.1], [0.9, 0.9], [0.1, 0.9], [0.9, 0.1]])\n",
    "P_test = poly.fit_transform(X_test)\n",
    "Y_test = P_test @ w\n",
    "print(\"y_test_class =\")\n",
    "print(np.sign(Y_test))"
   ]
  },
  {
   "cell_type": "markdown",
   "id": "6762f79e-a773-42b2-b4c0-2926924afa01",
   "metadata": {},
   "source": [
    "### Multi-class Classification (automated, one-hot encoding, polynomial regression with L2 regularisation)"
   ]
  },
  {
   "cell_type": "code",
   "execution_count": 271,
   "id": "eadb75ec-08b2-4443-976c-4e0bd89916ee",
   "metadata": {},
   "outputs": [
    {
     "name": "stdout",
     "output_type": "stream",
     "text": [
      "P =\n",
      "[[ 1.      -1.       1.      -1.       1.      -1.     ]\n",
      " [ 1.       0.       0.       0.       0.       0.     ]\n",
      " [ 1.       0.5      0.25     0.125    0.0625   0.03125]\n",
      " [ 1.       0.3      0.09     0.027    0.0081   0.00243]\n",
      " [ 1.       0.8      0.64     0.512    0.4096   0.32768]]\n",
      "\n",
      "Use dual solution, m < d, right inverse Pᵀ(PPᵀ + λI)⁻¹\n",
      "Ŵ =\n",
      "[[  0.98693729  -0.02087626   0.03384032]\n",
      " [ -4.83565183  -2.87757893   7.71371153]\n",
      " [  4.31890072   9.25917207 -13.57848966]\n",
      " [  5.78832959   7.90696347 -13.69590392]\n",
      " [ -5.34563142 -10.88193347  16.22813391]\n",
      " [ -1.99277359  -6.67347443   8.66643163]]\n",
      "\n",
      "Y_test_class =\n",
      "[[1, 0, 0], [0, 0, 1]]\n"
     ]
    }
   ],
   "source": [
    "# NO NEED to add the first column of '1's for bias for X, already done in PolynomialFeatures()!\n",
    "X = np.array([[-1], [0], [0.5], [0.3], [0.8]])\n",
    "Y = np.array([[1, 0, 0], [1, 0, 0], [0, 1, 0], [0, 0, 1], [0, 1, 0]])\n",
    "\n",
    "# Uncomment to use OneHotEncoder\n",
    "# Y_class = np.array([[1], [1], [2], [3], [2]])\n",
    "# onehot_encoder = OneHotEncoder(sparse_output=False)\n",
    "# Y = onehot_encoder.fit_transform(Y_class)\n",
    "\n",
    "# Generate polynomial features\n",
    "order = 5\n",
    "poly = PolynomialFeatures(order)\n",
    "P = poly.fit_transform(X)\n",
    "print(\"P =\")\n",
    "print(P)\n",
    "print()\n",
    "\n",
    "# Ridge regression\n",
    "reg = 0.0001  # Lambda\n",
    "if P.shape[1] > P.shape[0]:\n",
    "    print(\"Use dual solution, m < d, right inverse Pᵀ(PPᵀ + λI)⁻¹\")\n",
    "    W = P.T @ inv(P @ P.T + reg * np.eye(P.shape[0])) @ Y\n",
    "else:\n",
    "    print(\"Use primal solution, m > d, left inverse (PᵀP + λI)⁻¹Pᵀ\")\n",
    "    W = (inv(P.T @ P + reg * np.eye(P.shape[1])) @ P.T) @ Y\n",
    "print(\"Ŵ =\")\n",
    "print(W)\n",
    "print()\n",
    "\n",
    "# Predict Y based on new X\n",
    "X_test = np.array([[-0.1], [0.4]])\n",
    "P_test = poly.fit_transform(X_test)\n",
    "Y_test = P_test @ W\n",
    "Y_test_class = [[1 if y == max(x) else 0 for y in x] for x in Y_test]\n",
    "print(\"Y_test_class =\")\n",
    "print(Y_test_class)"
   ]
  },
  {
   "cell_type": "markdown",
   "id": "994b4994",
   "metadata": {},
   "source": [
    "# Gradient Descent"
   ]
  },
  {
   "cell_type": "markdown",
   "id": "53dafd74",
   "metadata": {},
   "source": [
    "### General Gradient Descent"
   ]
  },
  {
   "cell_type": "markdown",
   "id": "63ea6db0",
   "metadata": {},
   "source": [
    "Gradient Descent Formula:\n",
    "\n",
    "Initialise **x₀** and learning rate η\n",
    "\n",
    "**while** true **do**\n",
    "\n",
    "&nbsp;&nbsp;&nbsp;&nbsp;Compute **x**ₖ₊₁ ← **x**ₖ - η▽ₓg(**x**ₖ)\n",
    "\n",
    "&nbsp;&nbsp;&nbsp;&nbsp;**if** converge **then**\n",
    "\n",
    "&nbsp;&nbsp;&nbsp;&nbsp;&nbsp;&nbsp;**return** **x**ₖ₊₁\n",
    "\n",
    "&nbsp;&nbsp;&nbsp;&nbsp;**end**\n",
    "\n",
    "**end**"
   ]
  },
  {
   "cell_type": "code",
   "execution_count": 272,
   "id": "557279d8",
   "metadata": {},
   "outputs": [
    {
     "name": "stdout",
     "output_type": "stream",
     "text": [
      "After 0 iteration(s):\n",
      "x = -1\n",
      "g(x) = 1\n",
      "\n",
      "After 1 iteration(s):\n",
      "x = 0.8\n",
      "g(x) = 0.6400000000000001\n",
      "\n",
      "After 2 iteration(s):\n",
      "x = -0.6400000000000001\n",
      "g(x) = 0.4096000000000002\n",
      "\n",
      "After 3 iteration(s):\n",
      "x = 0.5120000000000002\n",
      "g(x) = 0.26214400000000027\n",
      "\n",
      "After 4 iteration(s):\n",
      "x = -0.4096000000000002\n",
      "g(x) = 0.16777216000000014\n",
      "\n",
      "After 5 iteration(s):\n",
      "x = 0.3276800000000002\n",
      "g(x) = 0.10737418240000013\n",
      "\n"
     ]
    }
   ],
   "source": [
    "x_0 = -1\n",
    "learning_rate = 0.9\n",
    "number_of_iterations = 5\n",
    "\n",
    "# Taking g(x) = x² => g'(x) = 2x\n",
    "def g(x):\n",
    "    return x ** 2\n",
    "\n",
    "def g_prime(x):\n",
    "    return 2 * x\n",
    "\n",
    "x_list = [x_0]\n",
    "gx_list = [g(x_0)]\n",
    "x = x_0\n",
    "for iteration in range(number_of_iterations):\n",
    "    x -= learning_rate * g_prime(x)\n",
    "    gx = g(x)\n",
    "    x_list.append(x)\n",
    "    gx_list.append(gx)\n",
    "\n",
    "for iteration in range(number_of_iterations + 1):\n",
    "    print(f'After {iteration} iteration(s):')\n",
    "    print(f'x = {x_list[iteration]}')\n",
    "    print(f'g(x) = {gx_list[iteration]}\\n')"
   ]
  },
  {
   "cell_type": "markdown",
   "id": "e785a9fd",
   "metadata": {},
   "source": [
    "### Assignment 3 Code"
   ]
  },
  {
   "cell_type": "code",
   "execution_count": 273,
   "id": "5e0ab5ac",
   "metadata": {},
   "outputs": [
    {
     "data": {
      "text/plain": [
       "(array([0.546875  , 0.54240279, 0.53807508, 0.53388385, 0.52982169,\n",
       "        0.52588176, 0.52205772, 0.5183437 , 0.51473425, 0.51122429]),\n",
       " array([0.04891481, 0.04694719, 0.04510393, 0.04337445, 0.04174925,\n",
       "        0.04021986, 0.03877864, 0.03741874, 0.03613394, 0.03491865]),\n",
       " array([0.49158529, 0.4832627 , 0.47503353, 0.46689899, 0.45886014,\n",
       "        0.45091796, 0.44307329, 0.43532688, 0.42767938, 0.42013131]),\n",
       " array([0.2228067 , 0.21591887, 0.20918573, 0.20260743, 0.19618383,\n",
       "        0.1899146 , 0.18379913, 0.17783664, 0.17202612, 0.16636638]),\n",
       " array([1.88      , 1.773968  , 1.67955913, 1.59493156, 1.51861736,\n",
       "        1.4494314 , 1.38640586, 1.32874222, 1.27577555, 1.22694745]),\n",
       " array([4.16512718, 4.32653555, 4.47715292, 4.61094906, 4.724224  ,\n",
       "        4.81606055, 4.88786162, 4.94241001, 4.98296068, 5.01262818]),\n",
       " array([ -8.16993964, -11.76003964, -14.75494877, -17.09435979,\n",
       "        -18.81449606, -20.02486635, -20.85948129, -21.43806897,\n",
       "        -21.85008559, -22.15538262]))"
      ]
     },
     "execution_count": 273,
     "metadata": {},
     "output_type": "execute_result"
    }
   ],
   "source": [
    "'''\n",
    "Given:\n",
    "f₁(a) = a⁵ => f₁'(a) = 5a⁴\n",
    "f₂(b) = sin²(b) => f₂'(b) = 2sin(b)cos(b) = sin(2b)\n",
    "f₃(c, d) = c³ + d²sin(d) = 3c² + 2dsin(d) + d²cos(d)\n",
    "\n",
    "Gradient descent formula: wₖ₊₁ ← wₖ - η▽C(wₖ)\n",
    "'''\n",
    "\n",
    "def A3_A0286550Y(learning_rate, num_iters):\n",
    "    a = 2.5\n",
    "    b = 0.5\n",
    "    c = 2\n",
    "    d = 4\n",
    "\n",
    "    a_out = np.zeros(num_iters)\n",
    "    f1_out = np.zeros(num_iters)\n",
    "    b_out = np.zeros(num_iters)\n",
    "    f2_out = np.zeros(num_iters)\n",
    "    c_out = np.zeros(num_iters)\n",
    "    d_out = np.zeros(num_iters)\n",
    "    f3_out = np.zeros(num_iters)\n",
    "\n",
    "    for iteration in range(num_iters):\n",
    "        a -= learning_rate * 5 * a ** 4\n",
    "        b -= learning_rate * np.sin(2 * b)\n",
    "        c -= learning_rate * 3 * c ** 2\n",
    "        d -= learning_rate * (2 * d * np.sin(d) + d ** 2 * np.cos(d))\n",
    "        a_out[iteration] = a\n",
    "        b_out[iteration] = b\n",
    "        c_out[iteration] = c\n",
    "        d_out[iteration] = d\n",
    "        f1_out[iteration] = a ** 5\n",
    "        f2_out[iteration] = np.sin(b) ** 2\n",
    "        f3_out[iteration] = c ** 3 + d ** 2 * np.sin(d)\n",
    "\n",
    "    # return in this order\n",
    "    return a_out, f1_out, b_out, f2_out, c_out, d_out, f3_out\n",
    "\n",
    "A3_A0286550Y(0.01, 10)"
   ]
  },
  {
   "cell_type": "markdown",
   "id": "aaaf52a6",
   "metadata": {},
   "source": [
    "# Metrics for Regression/Feature Selection"
   ]
  },
  {
   "cell_type": "markdown",
   "id": "34a1b886",
   "metadata": {},
   "source": [
    "### Mean Squared Error (MSE)"
   ]
  },
  {
   "cell_type": "code",
   "execution_count": 274,
   "id": "8dacd1ab",
   "metadata": {},
   "outputs": [
    {
     "data": {
      "text/plain": [
       "1.1401999999999975e-05"
      ]
     },
     "execution_count": 274,
     "metadata": {},
     "output_type": "execute_result"
    }
   ],
   "source": [
    "y = [0.2758, 1.4392, -0.4611, 0.6154, 1.0006]\n",
    "y_pred = [0.27, 1.44, -0.46, 0.62, 1.00]\n",
    "\n",
    "mean_squared_error(y, y_pred)"
   ]
  },
  {
   "cell_type": "markdown",
   "id": "0768ac83",
   "metadata": {},
   "source": [
    "### Pearson's r"
   ]
  },
  {
   "cell_type": "code",
   "execution_count": 275,
   "id": "27c498b4",
   "metadata": {},
   "outputs": [
    {
     "name": "stdout",
     "output_type": "stream",
     "text": [
      "Correlation of Feature 1 & y = 0.5987722845227617\n",
      "Correlation of Feature 2 & y = 0.45369218508997855\n",
      "Correlation of Feature 3 & y = 0.8008916458435773\n"
     ]
    }
   ],
   "source": [
    "feature_1 = [0.3510, 2.1812, 0.2415, -0.1096, 0.1544]\n",
    "feature_2 = [1.1796, 2.1068, 1.7753, 1.2747, 2.0851]\n",
    "feature_3 = [-0.9852, 1.3766, -1.3244, -0.6316, -0.8320]\n",
    "y = [0.2758, 1.4392, -0.4611, 0.6154, 1.0006]\n",
    "\n",
    "print(f'Correlation of Feature 1 & y = {pearsonr(feature_1, y)[0]}')\n",
    "print(f'Correlation of Feature 2 & y = {pearsonr(feature_2, y)[0]}')\n",
    "print(f'Correlation of Feature 3 & y = {pearsonr(feature_3, y)[0]}')"
   ]
  },
  {
   "cell_type": "markdown",
   "id": "b537fee2",
   "metadata": {},
   "source": [
    "# Decision Trees"
   ]
  },
  {
   "cell_type": "markdown",
   "id": "f9f0401e",
   "metadata": {},
   "source": [
    "### Decision Tree Regressor"
   ]
  },
  {
   "cell_type": "code",
   "execution_count": 276,
   "id": "b4786e6c",
   "metadata": {},
   "outputs": [
    {
     "name": "stdout",
     "output_type": "stream",
     "text": [
      "X_test =\n",
      "[[0.6 1. ]\n",
      " [1.  3. ]\n",
      " [2.  5. ]\n",
      " [3.  4. ]\n",
      " [3.2 6. ]\n",
      " [3.8 7. ]\n",
      " [0.5 2. ]]\n",
      "\n",
      "y_pred =\n",
      "[0.28       0.28       0.28       0.69333333 0.69333333 0.69333333\n",
      " 0.28      ]\n",
      "\n",
      "y_test =\n",
      "[0.23 0.28 0.42 0.53 0.75 0.8  0.19]\n"
     ]
    },
    {
     "data": {
      "text/plain": [
       "[Text(0.5, 0.75, 'x[0] <= 2.5\\nsquared_error = 0.052\\nsamples = 7\\nvalue = 0.457'),\n",
       " Text(0.25, 0.25, 'squared_error = 0.008\\nsamples = 4\\nvalue = 0.28'),\n",
       " Text(0.375, 0.5, 'True  '),\n",
       " Text(0.75, 0.25, 'squared_error = 0.014\\nsamples = 3\\nvalue = 0.693'),\n",
       " Text(0.625, 0.5, '  False')]"
      ]
     },
     "execution_count": 276,
     "metadata": {},
     "output_type": "execute_result"
    },
    {
     "data": {
      "image/png": "[encoded data removed]",
      "text/plain": [
       "<Figure size 640x480 with 1 Axes>"
      ]
     },
     "metadata": {},
     "output_type": "display_data"
    }
   ],
   "source": [
    "# Hyperparameters\n",
    "CRITERION = 'squared_error'\n",
    "MAX_DEPTH = 1\n",
    "MIN_IMPURITY_DECREASE = 0\n",
    "\n",
    "# Input\n",
    "X_train = np.array([[0.6, 1], [1.0, 3], [2.0, 5], [3.0, 4], [3.2, 6], [3.8, 7], [0.5, 2]])\n",
    "y_train = np.array([0.23, 0.28, 0.42, 0.53, 0.75, 0.80, 0.19])\n",
    "X_test = np.array([[0.6, 1], [1.0, 3], [2.0, 5], [3.0, 4], [3.2, 6], [3.8, 7], [0.5, 2]])\n",
    "y_test = np.array([0.23, 0.28, 0.42, 0.53, 0.75, 0.80, 0.19])\n",
    "\n",
    "decision_tree = DecisionTreeRegressor(criterion=CRITERION, max_depth=MAX_DEPTH, min_impurity_decrease=MIN_IMPURITY_DECREASE)\n",
    "decision_tree.fit(X_train, y_train)\n",
    "y_pred = decision_tree.predict(X_test)\n",
    "print('X_test =')\n",
    "print(X_test)\n",
    "print()\n",
    "print('y_pred =')\n",
    "print(y_pred)\n",
    "print()\n",
    "print('y_test =')\n",
    "print(y_test)\n",
    "plot_tree(decision_tree)"
   ]
  },
  {
   "cell_type": "markdown",
   "id": "c2938a38",
   "metadata": {},
   "source": [
    "### Decision Tree Classifier"
   ]
  },
  {
   "cell_type": "code",
   "execution_count": 277,
   "id": "a7d7e021",
   "metadata": {},
   "outputs": [
    {
     "name": "stdout",
     "output_type": "stream",
     "text": [
      "X_test =\n",
      "[[1.2 3.4]\n",
      " [2.5 1.8]\n",
      " [3.3 4.4]\n",
      " [0.5 2.2]\n",
      " [4.1 3. ]]\n",
      "\n",
      "y_pred =\n",
      "[0 1 0 1 0]\n",
      "\n",
      "y_test =\n",
      "[0 1 0 1 0]\n"
     ]
    },
    {
     "data": {
      "text/plain": [
       "[Text(0.5, 0.75, 'x[1] <= 2.6\\ngini = 0.48\\nsamples = 5\\nvalue = [3, 2]'),\n",
       " Text(0.25, 0.25, 'gini = 0.0\\nsamples = 2\\nvalue = [0, 2]'),\n",
       " Text(0.375, 0.5, 'True  '),\n",
       " Text(0.75, 0.25, 'gini = 0.0\\nsamples = 3\\nvalue = [3, 0]'),\n",
       " Text(0.625, 0.5, '  False')]"
      ]
     },
     "execution_count": 277,
     "metadata": {},
     "output_type": "execute_result"
    },
    {
     "data": {
      "image/png": "[encoded data removed]",
      "text/plain": [
       "<Figure size 640x480 with 1 Axes>"
      ]
     },
     "metadata": {},
     "output_type": "display_data"
    }
   ],
   "source": [
    "# Hyperparameters\n",
    "CRITERION = 'gini'  # Or 'entropy'\n",
    "MAX_DEPTH = 1\n",
    "MIN_IMPURITY_DECREASE = 0\n",
    "\n",
    "# Input\n",
    "X_train = np.array([\n",
    "    [1.2, 3.4],\n",
    "    [2.5, 1.8],\n",
    "    [3.3, 4.4],\n",
    "    [0.5, 2.2],\n",
    "    [4.1, 3.0]\n",
    "])\n",
    "y_train = np.array([0, 1, 0, 1, 0])\n",
    "X_test = np.array([\n",
    "    [1.2, 3.4],\n",
    "    [2.5, 1.8],\n",
    "    [3.3, 4.4],\n",
    "    [0.5, 2.2],\n",
    "    [4.1, 3.0]\n",
    "])\n",
    "y_test = np.array([0, 1, 0, 1, 0])\n",
    "\n",
    "decision_tree = DecisionTreeClassifier(criterion=CRITERION, max_depth=MAX_DEPTH, min_impurity_decrease=MIN_IMPURITY_DECREASE)\n",
    "decision_tree.fit(X_train, y_train)\n",
    "y_pred = decision_tree.predict(X_test)\n",
    "print('X_test =')\n",
    "print(X_test)\n",
    "print()\n",
    "print('y_pred =')\n",
    "print(y_pred)\n",
    "print()\n",
    "print('y_test =')\n",
    "print(y_test)\n",
    "plot_tree(decision_tree)"
   ]
  },
  {
   "cell_type": "markdown",
   "id": "75749b6c",
   "metadata": {},
   "source": [
    "### Lecture 9 Example (Decision Tree Regressor)"
   ]
  },
  {
   "cell_type": "code",
   "execution_count": 278,
   "id": "80e19c80",
   "metadata": {},
   "outputs": [
    {
     "name": "stdout",
     "output_type": "stream",
     "text": [
      "House sizes: [0.5 0.6 1.  2.  3.  3.2 3.8]\n",
      "Predicted prices: [0.28       0.28       0.28       0.28       0.69333333 0.69333333\n",
      " 0.69333333]\n"
     ]
    },
    {
     "data": {
      "image/png": "[encoded data removed]",
      "text/plain": [
       "<Figure size 900x450 with 1 Axes>"
      ]
     },
     "metadata": {},
     "output_type": "display_data"
    },
    {
     "data": {
      "text/plain": [
       "[Text(0.5, 0.75, 'x[0] <= 2.5\\nsquared_error = 0.052\\nsamples = 7\\nvalue = 0.457'),\n",
       " Text(0.25, 0.25, 'squared_error = 0.008\\nsamples = 4\\nvalue = 0.28'),\n",
       " Text(0.375, 0.5, 'True  '),\n",
       " Text(0.75, 0.25, 'squared_error = 0.014\\nsamples = 3\\nvalue = 0.693'),\n",
       " Text(0.625, 0.5, '  False')]"
      ]
     },
     "execution_count": 278,
     "metadata": {},
     "output_type": "execute_result"
    },
    {
     "data": {
      "image/png": "[encoded data removed]",
      "text/plain": [
       "<Figure size 640x480 with 1 Axes>"
      ]
     },
     "metadata": {},
     "output_type": "display_data"
    }
   ],
   "source": [
    "# Hyperparameters\n",
    "CRITERION = 'squared_error'\n",
    "MAX_DEPTH = 1\n",
    "\n",
    "# Input (Lecture 9 housing prices example)\n",
    "S = np.array([0.6, 1.0, 2.0, 3.0, 3.2, 3.8, 0.5])  # House size (only this is used to predict)\n",
    "# R = np.array([1, 3, 5, 4, 6, 7, 2])  # Number of rooms (this is unused)\n",
    "P = np.array([0.23, 0.28, 0.42, 0.53, 0.75, 0.80, 0.19])  # Price\n",
    "\n",
    "# Sort\n",
    "sort_index = S.argsort()\n",
    "S = S[sort_index]\n",
    "# R = R[sort_index]\n",
    "P = P[sort_index]\n",
    "\n",
    "# Scikit decision tree regressor\n",
    "decision_tree = DecisionTreeRegressor(criterion=CRITERION, max_depth=MAX_DEPTH)\n",
    "# Focus on House Size\n",
    "decision_tree.fit(S.reshape(-1,1), P) # Reshape necessary because tree expects 2D array\n",
    "decision_tree_predicted = decision_tree.predict(S.reshape(-1,1))\n",
    "print(f'House sizes: {S}')\n",
    "print(f'Predicted prices: {decision_tree_predicted}')\n",
    "\n",
    "# Plot\n",
    "plt.figure(0, figsize=[9, 4.5])\n",
    "plt.rcParams.update({'font.size': 16})\n",
    "plt.scatter(S, P, c='steelblue', s=30)\n",
    "plt.plot(S, decision_tree_predicted, color='black', lw=2, label='scikit-learn')\n",
    "plt.xlabel('House Size')\n",
    "plt.ylabel('House Price')\n",
    "plt.legend(loc='upper right', ncol=3, fontsize=10)\n",
    "plt.show()\n",
    "plot_tree(decision_tree)"
   ]
  },
  {
   "cell_type": "markdown",
   "id": "4b66e29f",
   "metadata": {},
   "source": [
    "# Random Forests"
   ]
  },
  {
   "cell_type": "markdown",
   "id": "d7992077",
   "metadata": {},
   "source": [
    "### Random Forest Regressor"
   ]
  },
  {
   "cell_type": "code",
   "execution_count": 279,
   "id": "c3028547",
   "metadata": {},
   "outputs": [
    {
     "name": "stdout",
     "output_type": "stream",
     "text": [
      "X_test =\n",
      "[[0.6 1. ]\n",
      " [1.  3. ]\n",
      " [2.  5. ]\n",
      " [3.  4. ]\n",
      " [3.2 6. ]\n",
      " [3.8 7. ]\n",
      " [0.5 2. ]]\n",
      "\n",
      "y_pred =\n",
      "[0.29107333 0.29597333 0.40895667 0.54920167 0.66991833 0.71368333\n",
      " 0.29107333]\n",
      "\n",
      "y_test =\n",
      "[0.23 0.28 0.42 0.53 0.75 0.8  0.19]\n"
     ]
    }
   ],
   "source": [
    "# Hyperparameters\n",
    "CRITERION = 'squared_error'\n",
    "MAX_DEPTH = 1\n",
    "MIN_IMPURITY_DECREASE = 0\n",
    "NO_OF_TREES = 100\n",
    "\n",
    "# Input\n",
    "X_train = np.array([[0.6, 1], [1.0, 3], [2.0, 5], [3.0, 4], [3.2, 6], [3.8, 7], [0.5, 2]])\n",
    "y_train = np.array([0.23, 0.28, 0.42, 0.53, 0.75, 0.80, 0.19])\n",
    "X_test = np.array([[0.6, 1], [1.0, 3], [2.0, 5], [3.0, 4], [3.2, 6], [3.8, 7], [0.5, 2]])\n",
    "y_test = np.array([0.23, 0.28, 0.42, 0.53, 0.75, 0.80, 0.19])\n",
    "\n",
    "random_forest = RandomForestRegressor(criterion=CRITERION, max_depth=MAX_DEPTH, n_estimators=NO_OF_TREES, min_impurity_decrease=MIN_IMPURITY_DECREASE)\n",
    "random_forest.fit(X_train, y_train)\n",
    "y_pred = random_forest.predict(X_test)\n",
    "print('X_test =')\n",
    "print(X_test)\n",
    "print()\n",
    "print('y_pred =')\n",
    "print(y_pred)\n",
    "print()\n",
    "print('y_test =')\n",
    "print(y_test)"
   ]
  },
  {
   "cell_type": "markdown",
   "id": "bd4d2d9b",
   "metadata": {},
   "source": [
    "### Random Forest Classifier"
   ]
  },
  {
   "cell_type": "code",
   "execution_count": 280,
   "id": "63f0f001",
   "metadata": {},
   "outputs": [
    {
     "name": "stdout",
     "output_type": "stream",
     "text": [
      "X_test =\n",
      "[[1.2 3.4]\n",
      " [2.5 1.8]\n",
      " [3.3 4.4]\n",
      " [0.5 2.2]\n",
      " [4.1 3. ]]\n",
      "\n",
      "y_pred =\n",
      "[0 1 0 1 0]\n",
      "\n",
      "y_test =\n",
      "[0 1 0 1 0]\n"
     ]
    }
   ],
   "source": [
    "# Hyperparameters\n",
    "CRITERION = 'gini'  # Or 'entropy'\n",
    "MAX_DEPTH = 1\n",
    "MIN_IMPURITY_DECREASE = 0\n",
    "NO_OF_TREES = 100\n",
    "\n",
    "# Input\n",
    "X_train = np.array([\n",
    "    [1.2, 3.4],\n",
    "    [2.5, 1.8],\n",
    "    [3.3, 4.4],\n",
    "    [0.5, 2.2],\n",
    "    [4.1, 3.0]\n",
    "])\n",
    "y_train = np.array([0, 1, 0, 1, 0])\n",
    "X_test = np.array([\n",
    "    [1.2, 3.4],\n",
    "    [2.5, 1.8],\n",
    "    [3.3, 4.4],\n",
    "    [0.5, 2.2],\n",
    "    [4.1, 3.0]\n",
    "])\n",
    "y_test = np.array([0, 1, 0, 1, 0])\n",
    "\n",
    "random_forest = RandomForestClassifier(criterion=CRITERION, max_depth=MAX_DEPTH, min_impurity_decrease=MIN_IMPURITY_DECREASE, n_estimators=NO_OF_TREES)\n",
    "random_forest.fit(X_train, y_train)\n",
    "y_pred = random_forest.predict(X_test)\n",
    "print('X_test =')\n",
    "print(X_test)\n",
    "print()\n",
    "print('y_pred =')\n",
    "print(y_pred)\n",
    "print()\n",
    "print('y_test =')\n",
    "print(y_test)"
   ]
  }
 ],
 "metadata": {
  "kernelspec": {
   "display_name": "ee2211",
   "language": "python",
   "name": "python3"
  },
  "language_info": {
   "codemirror_mode": {
    "name": "ipython",
    "version": 3
   },
   "file_extension": ".py",
   "mimetype": "text/x-python",
   "name": "python",
   "nbconvert_exporter": "python",
   "pygments_lexer": "ipython3",
   "version": "3.9.21"
  }
 },
 "nbformat": 4,
 "nbformat_minor": 5
}
